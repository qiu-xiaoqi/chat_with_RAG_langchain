{
 "cells": [
  {
   "cell_type": "code",
   "execution_count": 1,
   "metadata": {},
   "outputs": [
    {
     "data": {
      "text/plain": [
       "True"
      ]
     },
     "execution_count": 1,
     "metadata": {},
     "output_type": "execute_result"
    }
   ],
   "source": [
    "from dotenv import load_dotenv\n",
    "import os\n",
    "load_dotenv()"
   ]
  },
  {
   "cell_type": "code",
   "execution_count": 26,
   "metadata": {},
   "outputs": [],
   "source": [
    "# 重新定义参数\n",
    "question = \"什么是蘑菇书(easyrl)？\"\n",
    "model =  \"deepseek-chat\"\n",
    "temperature = 0.1\n",
    "if_history = False\n",
    "api_key = os.getenv(\"DeepSeek_API_for_RAG\")\n",
    "file_path = r\"D:\\code\\LLM_Project\\RAG\\chat_with_RAG_langchain\\knowledge_db\"\n",
    "db_path = r\"D:\\code\\LLM_Project\\RAG\\chat_with_RAG_langchain\\vector_db\\chroma\"\n",
    "embedding = \"openai\"\n",
    "top_k =  5\n",
    "embedding_key = os.getenv(\"EMBEDDING_KEY\")"
   ]
  },
  {
   "cell_type": "code",
   "execution_count": 27,
   "metadata": {},
   "outputs": [],
   "source": [
    "import requests\n",
    "\n",
    "url = \"http://127.0.0.1:8000\"\n",
    "\n",
    "data = {\n",
    "    \"question\": question,\n",
    "    \"api_key\":api_key,\n",
    "    \"model\": model,\n",
    "    \"db_path\": db_path,\n",
    "    \"file_path\": file_path,\n",
    "    \"embedding\": embedding,\n",
    "    \"top_k\":top_k,\n",
    "    \"embedding_key\": embedding_key\n",
    "}\n",
    "\n",
    "r = requests.post(url, json=data)"
   ]
  },
  {
   "cell_type": "code",
   "execution_count": 28,
   "metadata": {},
   "outputs": [
    {
     "data": {
      "text/plain": [
       "(<Response [200]>, 'null')"
      ]
     },
     "execution_count": 28,
     "metadata": {},
     "output_type": "execute_result"
    }
   ],
   "source": [
    "r, r.text"
   ]
  },
  {
   "cell_type": "code",
   "execution_count": 29,
   "metadata": {},
   "outputs": [
    {
     "name": "stdout",
     "output_type": "stream",
     "text": [
      "null\n"
     ]
    }
   ],
   "source": [
    "print(r.text)"
   ]
  },
  {
   "cell_type": "code",
   "execution_count": null,
   "metadata": {},
   "outputs": [],
   "source": []
  }
 ],
 "metadata": {
  "kernelspec": {
   "display_name": "RAG",
   "language": "python",
   "name": "python3"
  },
  "language_info": {
   "codemirror_mode": {
    "name": "ipython",
    "version": 3
   },
   "file_extension": ".py",
   "mimetype": "text/x-python",
   "name": "python",
   "nbconvert_exporter": "python",
   "pygments_lexer": "ipython3",
   "version": "3.9.0"
  }
 },
 "nbformat": 4,
 "nbformat_minor": 2
}
